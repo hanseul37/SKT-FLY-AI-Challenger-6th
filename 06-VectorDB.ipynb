{
 "cells": [
  {
   "cell_type": "code",
   "execution_count": 1,
   "metadata": {
    "colab": {
     "base_uri": "https://localhost:8080/"
    },
    "executionInfo": {
     "elapsed": 18732,
     "status": "ok",
     "timestamp": 1738732552945,
     "user": {
      "displayName": "이한슬/AI·소프트웨어학부(소프트웨어전공)",
      "userId": "06997898265828508065"
     },
     "user_tz": -540
    },
    "id": "-_-yaCvFhI9m",
    "outputId": "ef34a809-9506-4a51-84ef-578b69d62edd"
   },
   "outputs": [
    {
     "name": "stdout",
     "output_type": "stream",
     "text": [
      "Requirement already satisfied: langchain in /usr/local/lib/python3.11/dist-packages (0.3.16)\n",
      "Requirement already satisfied: langchain-core in /usr/local/lib/python3.11/dist-packages (0.3.32)\n",
      "Requirement already satisfied: langchain-community in /usr/local/lib/python3.11/dist-packages (0.3.16)\n",
      "Requirement already satisfied: PyYAML>=5.3 in /usr/local/lib/python3.11/dist-packages (from langchain) (6.0.2)\n",
      "Requirement already satisfied: SQLAlchemy<3,>=1.4 in /usr/local/lib/python3.11/dist-packages (from langchain) (2.0.37)\n",
      "Requirement already satisfied: aiohttp<4.0.0,>=3.8.3 in /usr/local/lib/python3.11/dist-packages (from langchain) (3.11.11)\n",
      "Requirement already satisfied: langchain-text-splitters<0.4.0,>=0.3.3 in /usr/local/lib/python3.11/dist-packages (from langchain) (0.3.5)\n",
      "Requirement already satisfied: langsmith<0.4,>=0.1.17 in /usr/local/lib/python3.11/dist-packages (from langchain) (0.3.2)\n",
      "Requirement already satisfied: numpy<2,>=1.22.4 in /usr/local/lib/python3.11/dist-packages (from langchain) (1.26.4)\n",
      "Requirement already satisfied: pydantic<3.0.0,>=2.7.4 in /usr/local/lib/python3.11/dist-packages (from langchain) (2.10.6)\n",
      "Requirement already satisfied: requests<3,>=2 in /usr/local/lib/python3.11/dist-packages (from langchain) (2.32.3)\n",
      "Requirement already satisfied: tenacity!=8.4.0,<10,>=8.1.0 in /usr/local/lib/python3.11/dist-packages (from langchain) (9.0.0)\n",
      "Requirement already satisfied: jsonpatch<2.0,>=1.33 in /usr/local/lib/python3.11/dist-packages (from langchain-core) (1.33)\n",
      "Requirement already satisfied: packaging<25,>=23.2 in /usr/local/lib/python3.11/dist-packages (from langchain-core) (24.2)\n",
      "Requirement already satisfied: typing-extensions>=4.7 in /usr/local/lib/python3.11/dist-packages (from langchain-core) (4.12.2)\n",
      "Requirement already satisfied: dataclasses-json<0.7,>=0.5.7 in /usr/local/lib/python3.11/dist-packages (from langchain-community) (0.6.7)\n",
      "Requirement already satisfied: httpx-sse<0.5.0,>=0.4.0 in /usr/local/lib/python3.11/dist-packages (from langchain-community) (0.4.0)\n",
      "Requirement already satisfied: pydantic-settings<3.0.0,>=2.4.0 in /usr/local/lib/python3.11/dist-packages (from langchain-community) (2.7.1)\n",
      "Requirement already satisfied: aiohappyeyeballs>=2.3.0 in /usr/local/lib/python3.11/dist-packages (from aiohttp<4.0.0,>=3.8.3->langchain) (2.4.4)\n",
      "Requirement already satisfied: aiosignal>=1.1.2 in /usr/local/lib/python3.11/dist-packages (from aiohttp<4.0.0,>=3.8.3->langchain) (1.3.2)\n",
      "Requirement already satisfied: attrs>=17.3.0 in /usr/local/lib/python3.11/dist-packages (from aiohttp<4.0.0,>=3.8.3->langchain) (25.1.0)\n",
      "Requirement already satisfied: frozenlist>=1.1.1 in /usr/local/lib/python3.11/dist-packages (from aiohttp<4.0.0,>=3.8.3->langchain) (1.5.0)\n",
      "Requirement already satisfied: multidict<7.0,>=4.5 in /usr/local/lib/python3.11/dist-packages (from aiohttp<4.0.0,>=3.8.3->langchain) (6.1.0)\n",
      "Requirement already satisfied: propcache>=0.2.0 in /usr/local/lib/python3.11/dist-packages (from aiohttp<4.0.0,>=3.8.3->langchain) (0.2.1)\n",
      "Requirement already satisfied: yarl<2.0,>=1.17.0 in /usr/local/lib/python3.11/dist-packages (from aiohttp<4.0.0,>=3.8.3->langchain) (1.18.3)\n",
      "Requirement already satisfied: marshmallow<4.0.0,>=3.18.0 in /usr/local/lib/python3.11/dist-packages (from dataclasses-json<0.7,>=0.5.7->langchain-community) (3.26.1)\n",
      "Requirement already satisfied: typing-inspect<1,>=0.4.0 in /usr/local/lib/python3.11/dist-packages (from dataclasses-json<0.7,>=0.5.7->langchain-community) (0.9.0)\n",
      "Requirement already satisfied: jsonpointer>=1.9 in /usr/local/lib/python3.11/dist-packages (from jsonpatch<2.0,>=1.33->langchain-core) (3.0.0)\n",
      "Requirement already satisfied: httpx<1,>=0.23.0 in /usr/local/lib/python3.11/dist-packages (from langsmith<0.4,>=0.1.17->langchain) (0.28.1)\n",
      "Requirement already satisfied: orjson<4.0.0,>=3.9.14 in /usr/local/lib/python3.11/dist-packages (from langsmith<0.4,>=0.1.17->langchain) (3.10.15)\n",
      "Requirement already satisfied: requests-toolbelt<2.0.0,>=1.0.0 in /usr/local/lib/python3.11/dist-packages (from langsmith<0.4,>=0.1.17->langchain) (1.0.0)\n",
      "Requirement already satisfied: zstandard<0.24.0,>=0.23.0 in /usr/local/lib/python3.11/dist-packages (from langsmith<0.4,>=0.1.17->langchain) (0.23.0)\n",
      "Requirement already satisfied: annotated-types>=0.6.0 in /usr/local/lib/python3.11/dist-packages (from pydantic<3.0.0,>=2.7.4->langchain) (0.7.0)\n",
      "Requirement already satisfied: pydantic-core==2.27.2 in /usr/local/lib/python3.11/dist-packages (from pydantic<3.0.0,>=2.7.4->langchain) (2.27.2)\n",
      "Requirement already satisfied: python-dotenv>=0.21.0 in /usr/local/lib/python3.11/dist-packages (from pydantic-settings<3.0.0,>=2.4.0->langchain-community) (1.0.1)\n",
      "Requirement already satisfied: charset-normalizer<4,>=2 in /usr/local/lib/python3.11/dist-packages (from requests<3,>=2->langchain) (3.4.1)\n",
      "Requirement already satisfied: idna<4,>=2.5 in /usr/local/lib/python3.11/dist-packages (from requests<3,>=2->langchain) (3.10)\n",
      "Requirement already satisfied: urllib3<3,>=1.21.1 in /usr/local/lib/python3.11/dist-packages (from requests<3,>=2->langchain) (2.3.0)\n",
      "Requirement already satisfied: certifi>=2017.4.17 in /usr/local/lib/python3.11/dist-packages (from requests<3,>=2->langchain) (2024.12.14)\n",
      "Requirement already satisfied: greenlet!=0.4.17 in /usr/local/lib/python3.11/dist-packages (from SQLAlchemy<3,>=1.4->langchain) (3.1.1)\n",
      "Requirement already satisfied: anyio in /usr/local/lib/python3.11/dist-packages (from httpx<1,>=0.23.0->langsmith<0.4,>=0.1.17->langchain) (3.7.1)\n",
      "Requirement already satisfied: httpcore==1.* in /usr/local/lib/python3.11/dist-packages (from httpx<1,>=0.23.0->langsmith<0.4,>=0.1.17->langchain) (1.0.7)\n",
      "Requirement already satisfied: h11<0.15,>=0.13 in /usr/local/lib/python3.11/dist-packages (from httpcore==1.*->httpx<1,>=0.23.0->langsmith<0.4,>=0.1.17->langchain) (0.14.0)\n",
      "Requirement already satisfied: mypy-extensions>=0.3.0 in /usr/local/lib/python3.11/dist-packages (from typing-inspect<1,>=0.4.0->dataclasses-json<0.7,>=0.5.7->langchain-community) (1.0.0)\n",
      "Requirement already satisfied: sniffio>=1.1 in /usr/local/lib/python3.11/dist-packages (from anyio->httpx<1,>=0.23.0->langsmith<0.4,>=0.1.17->langchain) (1.3.1)\n",
      "Requirement already satisfied: openai in /usr/local/lib/python3.11/dist-packages (1.59.9)\n",
      "Requirement already satisfied: anyio<5,>=3.5.0 in /usr/local/lib/python3.11/dist-packages (from openai) (3.7.1)\n",
      "Requirement already satisfied: distro<2,>=1.7.0 in /usr/local/lib/python3.11/dist-packages (from openai) (1.9.0)\n",
      "Requirement already satisfied: httpx<1,>=0.23.0 in /usr/local/lib/python3.11/dist-packages (from openai) (0.28.1)\n",
      "Requirement already satisfied: jiter<1,>=0.4.0 in /usr/local/lib/python3.11/dist-packages (from openai) (0.8.2)\n",
      "Requirement already satisfied: pydantic<3,>=1.9.0 in /usr/local/lib/python3.11/dist-packages (from openai) (2.10.6)\n",
      "Requirement already satisfied: sniffio in /usr/local/lib/python3.11/dist-packages (from openai) (1.3.1)\n",
      "Requirement already satisfied: tqdm>4 in /usr/local/lib/python3.11/dist-packages (from openai) (4.67.1)\n",
      "Requirement already satisfied: typing-extensions<5,>=4.11 in /usr/local/lib/python3.11/dist-packages (from openai) (4.12.2)\n",
      "Requirement already satisfied: idna>=2.8 in /usr/local/lib/python3.11/dist-packages (from anyio<5,>=3.5.0->openai) (3.10)\n",
      "Requirement already satisfied: certifi in /usr/local/lib/python3.11/dist-packages (from httpx<1,>=0.23.0->openai) (2024.12.14)\n",
      "Requirement already satisfied: httpcore==1.* in /usr/local/lib/python3.11/dist-packages (from httpx<1,>=0.23.0->openai) (1.0.7)\n",
      "Requirement already satisfied: h11<0.15,>=0.13 in /usr/local/lib/python3.11/dist-packages (from httpcore==1.*->httpx<1,>=0.23.0->openai) (0.14.0)\n",
      "Requirement already satisfied: annotated-types>=0.6.0 in /usr/local/lib/python3.11/dist-packages (from pydantic<3,>=1.9.0->openai) (0.7.0)\n",
      "Requirement already satisfied: pydantic-core==2.27.2 in /usr/local/lib/python3.11/dist-packages (from pydantic<3,>=1.9.0->openai) (2.27.2)\n",
      "Requirement already satisfied: pypdf in /usr/local/lib/python3.11/dist-packages (5.2.0)\n",
      "Requirement already satisfied: tiktoken in /usr/local/lib/python3.11/dist-packages (0.8.0)\n",
      "Requirement already satisfied: regex>=2022.1.18 in /usr/local/lib/python3.11/dist-packages (from tiktoken) (2024.11.6)\n",
      "Requirement already satisfied: requests>=2.26.0 in /usr/local/lib/python3.11/dist-packages (from tiktoken) (2.32.3)\n",
      "Requirement already satisfied: charset-normalizer<4,>=2 in /usr/local/lib/python3.11/dist-packages (from requests>=2.26.0->tiktoken) (3.4.1)\n",
      "Requirement already satisfied: idna<4,>=2.5 in /usr/local/lib/python3.11/dist-packages (from requests>=2.26.0->tiktoken) (3.10)\n",
      "Requirement already satisfied: urllib3<3,>=1.21.1 in /usr/local/lib/python3.11/dist-packages (from requests>=2.26.0->tiktoken) (2.3.0)\n",
      "Requirement already satisfied: certifi>=2017.4.17 in /usr/local/lib/python3.11/dist-packages (from requests>=2.26.0->tiktoken) (2024.12.14)\n",
      "Requirement already satisfied: chromadb in /usr/local/lib/python3.11/dist-packages (0.6.3)\n",
      "Requirement already satisfied: build>=1.0.3 in /usr/local/lib/python3.11/dist-packages (from chromadb) (1.2.2.post1)\n",
      "Requirement already satisfied: pydantic>=1.9 in /usr/local/lib/python3.11/dist-packages (from chromadb) (2.10.6)\n",
      "Requirement already satisfied: chroma-hnswlib==0.7.6 in /usr/local/lib/python3.11/dist-packages (from chromadb) (0.7.6)\n",
      "Requirement already satisfied: fastapi>=0.95.2 in /usr/local/lib/python3.11/dist-packages (from chromadb) (0.115.8)\n",
      "Requirement already satisfied: uvicorn>=0.18.3 in /usr/local/lib/python3.11/dist-packages (from uvicorn[standard]>=0.18.3->chromadb) (0.34.0)\n",
      "Requirement already satisfied: numpy>=1.22.5 in /usr/local/lib/python3.11/dist-packages (from chromadb) (1.26.4)\n",
      "Requirement already satisfied: posthog>=2.4.0 in /usr/local/lib/python3.11/dist-packages (from chromadb) (3.11.0)\n",
      "Requirement already satisfied: typing_extensions>=4.5.0 in /usr/local/lib/python3.11/dist-packages (from chromadb) (4.12.2)\n",
      "Requirement already satisfied: onnxruntime>=1.14.1 in /usr/local/lib/python3.11/dist-packages (from chromadb) (1.20.1)\n",
      "Requirement already satisfied: opentelemetry-api>=1.2.0 in /usr/local/lib/python3.11/dist-packages (from chromadb) (1.30.0)\n",
      "Requirement already satisfied: opentelemetry-exporter-otlp-proto-grpc>=1.2.0 in /usr/local/lib/python3.11/dist-packages (from chromadb) (1.30.0)\n",
      "Requirement already satisfied: opentelemetry-instrumentation-fastapi>=0.41b0 in /usr/local/lib/python3.11/dist-packages (from chromadb) (0.51b0)\n",
      "Requirement already satisfied: opentelemetry-sdk>=1.2.0 in /usr/local/lib/python3.11/dist-packages (from chromadb) (1.30.0)\n",
      "Requirement already satisfied: tokenizers>=0.13.2 in /usr/local/lib/python3.11/dist-packages (from chromadb) (0.21.0)\n",
      "Requirement already satisfied: pypika>=0.48.9 in /usr/local/lib/python3.11/dist-packages (from chromadb) (0.48.9)\n",
      "Requirement already satisfied: tqdm>=4.65.0 in /usr/local/lib/python3.11/dist-packages (from chromadb) (4.67.1)\n",
      "Requirement already satisfied: overrides>=7.3.1 in /usr/local/lib/python3.11/dist-packages (from chromadb) (7.7.0)\n",
      "Requirement already satisfied: importlib-resources in /usr/local/lib/python3.11/dist-packages (from chromadb) (6.5.2)\n",
      "Requirement already satisfied: grpcio>=1.58.0 in /usr/local/lib/python3.11/dist-packages (from chromadb) (1.70.0)\n",
      "Requirement already satisfied: bcrypt>=4.0.1 in /usr/local/lib/python3.11/dist-packages (from chromadb) (4.2.1)\n",
      "Requirement already satisfied: typer>=0.9.0 in /usr/local/lib/python3.11/dist-packages (from chromadb) (0.15.1)\n",
      "Requirement already satisfied: kubernetes>=28.1.0 in /usr/local/lib/python3.11/dist-packages (from chromadb) (32.0.0)\n",
      "Requirement already satisfied: tenacity>=8.2.3 in /usr/local/lib/python3.11/dist-packages (from chromadb) (9.0.0)\n",
      "Requirement already satisfied: PyYAML>=6.0.0 in /usr/local/lib/python3.11/dist-packages (from chromadb) (6.0.2)\n",
      "Requirement already satisfied: mmh3>=4.0.1 in /usr/local/lib/python3.11/dist-packages (from chromadb) (5.1.0)\n",
      "Requirement already satisfied: orjson>=3.9.12 in /usr/local/lib/python3.11/dist-packages (from chromadb) (3.10.15)\n",
      "Requirement already satisfied: httpx>=0.27.0 in /usr/local/lib/python3.11/dist-packages (from chromadb) (0.28.1)\n",
      "Requirement already satisfied: rich>=10.11.0 in /usr/local/lib/python3.11/dist-packages (from chromadb) (13.9.4)\n",
      "Requirement already satisfied: packaging>=19.1 in /usr/local/lib/python3.11/dist-packages (from build>=1.0.3->chromadb) (24.2)\n",
      "Requirement already satisfied: pyproject_hooks in /usr/local/lib/python3.11/dist-packages (from build>=1.0.3->chromadb) (1.2.0)\n",
      "Requirement already satisfied: starlette<0.46.0,>=0.40.0 in /usr/local/lib/python3.11/dist-packages (from fastapi>=0.95.2->chromadb) (0.45.3)\n",
      "Requirement already satisfied: anyio in /usr/local/lib/python3.11/dist-packages (from httpx>=0.27.0->chromadb) (3.7.1)\n",
      "Requirement already satisfied: certifi in /usr/local/lib/python3.11/dist-packages (from httpx>=0.27.0->chromadb) (2024.12.14)\n",
      "Requirement already satisfied: httpcore==1.* in /usr/local/lib/python3.11/dist-packages (from httpx>=0.27.0->chromadb) (1.0.7)\n",
      "Requirement already satisfied: idna in /usr/local/lib/python3.11/dist-packages (from httpx>=0.27.0->chromadb) (3.10)\n",
      "Requirement already satisfied: h11<0.15,>=0.13 in /usr/local/lib/python3.11/dist-packages (from httpcore==1.*->httpx>=0.27.0->chromadb) (0.14.0)\n",
      "Requirement already satisfied: six>=1.9.0 in /usr/local/lib/python3.11/dist-packages (from kubernetes>=28.1.0->chromadb) (1.17.0)\n",
      "Requirement already satisfied: python-dateutil>=2.5.3 in /usr/local/lib/python3.11/dist-packages (from kubernetes>=28.1.0->chromadb) (2.8.2)\n",
      "Requirement already satisfied: google-auth>=1.0.1 in /usr/local/lib/python3.11/dist-packages (from kubernetes>=28.1.0->chromadb) (2.27.0)\n",
      "Requirement already satisfied: websocket-client!=0.40.0,!=0.41.*,!=0.42.*,>=0.32.0 in /usr/local/lib/python3.11/dist-packages (from kubernetes>=28.1.0->chromadb) (1.8.0)\n",
      "Requirement already satisfied: requests in /usr/local/lib/python3.11/dist-packages (from kubernetes>=28.1.0->chromadb) (2.32.3)\n",
      "Requirement already satisfied: requests-oauthlib in /usr/local/lib/python3.11/dist-packages (from kubernetes>=28.1.0->chromadb) (1.3.1)\n",
      "Requirement already satisfied: oauthlib>=3.2.2 in /usr/local/lib/python3.11/dist-packages (from kubernetes>=28.1.0->chromadb) (3.2.2)\n",
      "Requirement already satisfied: urllib3>=1.24.2 in /usr/local/lib/python3.11/dist-packages (from kubernetes>=28.1.0->chromadb) (2.3.0)\n",
      "Requirement already satisfied: durationpy>=0.7 in /usr/local/lib/python3.11/dist-packages (from kubernetes>=28.1.0->chromadb) (0.9)\n",
      "Requirement already satisfied: coloredlogs in /usr/local/lib/python3.11/dist-packages (from onnxruntime>=1.14.1->chromadb) (15.0.1)\n",
      "Requirement already satisfied: flatbuffers in /usr/local/lib/python3.11/dist-packages (from onnxruntime>=1.14.1->chromadb) (25.1.24)\n",
      "Requirement already satisfied: protobuf in /usr/local/lib/python3.11/dist-packages (from onnxruntime>=1.14.1->chromadb) (5.29.3)\n",
      "Requirement already satisfied: sympy in /usr/local/lib/python3.11/dist-packages (from onnxruntime>=1.14.1->chromadb) (1.13.1)\n",
      "Requirement already satisfied: deprecated>=1.2.6 in /usr/local/lib/python3.11/dist-packages (from opentelemetry-api>=1.2.0->chromadb) (1.2.18)\n",
      "Requirement already satisfied: importlib-metadata<=8.5.0,>=6.0 in /usr/local/lib/python3.11/dist-packages (from opentelemetry-api>=1.2.0->chromadb) (8.5.0)\n",
      "Requirement already satisfied: googleapis-common-protos~=1.52 in /usr/local/lib/python3.11/dist-packages (from opentelemetry-exporter-otlp-proto-grpc>=1.2.0->chromadb) (1.66.0)\n",
      "Requirement already satisfied: opentelemetry-exporter-otlp-proto-common==1.30.0 in /usr/local/lib/python3.11/dist-packages (from opentelemetry-exporter-otlp-proto-grpc>=1.2.0->chromadb) (1.30.0)\n",
      "Requirement already satisfied: opentelemetry-proto==1.30.0 in /usr/local/lib/python3.11/dist-packages (from opentelemetry-exporter-otlp-proto-grpc>=1.2.0->chromadb) (1.30.0)\n",
      "Requirement already satisfied: opentelemetry-instrumentation-asgi==0.51b0 in /usr/local/lib/python3.11/dist-packages (from opentelemetry-instrumentation-fastapi>=0.41b0->chromadb) (0.51b0)\n",
      "Requirement already satisfied: opentelemetry-instrumentation==0.51b0 in /usr/local/lib/python3.11/dist-packages (from opentelemetry-instrumentation-fastapi>=0.41b0->chromadb) (0.51b0)\n",
      "Requirement already satisfied: opentelemetry-semantic-conventions==0.51b0 in /usr/local/lib/python3.11/dist-packages (from opentelemetry-instrumentation-fastapi>=0.41b0->chromadb) (0.51b0)\n",
      "Requirement already satisfied: opentelemetry-util-http==0.51b0 in /usr/local/lib/python3.11/dist-packages (from opentelemetry-instrumentation-fastapi>=0.41b0->chromadb) (0.51b0)\n",
      "Requirement already satisfied: wrapt<2.0.0,>=1.0.0 in /usr/local/lib/python3.11/dist-packages (from opentelemetry-instrumentation==0.51b0->opentelemetry-instrumentation-fastapi>=0.41b0->chromadb) (1.17.2)\n",
      "Requirement already satisfied: asgiref~=3.0 in /usr/local/lib/python3.11/dist-packages (from opentelemetry-instrumentation-asgi==0.51b0->opentelemetry-instrumentation-fastapi>=0.41b0->chromadb) (3.8.1)\n",
      "Requirement already satisfied: monotonic>=1.5 in /usr/local/lib/python3.11/dist-packages (from posthog>=2.4.0->chromadb) (1.6)\n",
      "Requirement already satisfied: backoff>=1.10.0 in /usr/local/lib/python3.11/dist-packages (from posthog>=2.4.0->chromadb) (2.2.1)\n",
      "Requirement already satisfied: annotated-types>=0.6.0 in /usr/local/lib/python3.11/dist-packages (from pydantic>=1.9->chromadb) (0.7.0)\n",
      "Requirement already satisfied: pydantic-core==2.27.2 in /usr/local/lib/python3.11/dist-packages (from pydantic>=1.9->chromadb) (2.27.2)\n",
      "Requirement already satisfied: markdown-it-py>=2.2.0 in /usr/local/lib/python3.11/dist-packages (from rich>=10.11.0->chromadb) (3.0.0)\n",
      "Requirement already satisfied: pygments<3.0.0,>=2.13.0 in /usr/local/lib/python3.11/dist-packages (from rich>=10.11.0->chromadb) (2.18.0)\n",
      "Requirement already satisfied: huggingface-hub<1.0,>=0.16.4 in /usr/local/lib/python3.11/dist-packages (from tokenizers>=0.13.2->chromadb) (0.27.1)\n",
      "Requirement already satisfied: click>=8.0.0 in /usr/local/lib/python3.11/dist-packages (from typer>=0.9.0->chromadb) (8.1.8)\n",
      "Requirement already satisfied: shellingham>=1.3.0 in /usr/local/lib/python3.11/dist-packages (from typer>=0.9.0->chromadb) (1.5.4)\n",
      "Requirement already satisfied: httptools>=0.6.3 in /usr/local/lib/python3.11/dist-packages (from uvicorn[standard]>=0.18.3->chromadb) (0.6.4)\n",
      "Requirement already satisfied: python-dotenv>=0.13 in /usr/local/lib/python3.11/dist-packages (from uvicorn[standard]>=0.18.3->chromadb) (1.0.1)\n",
      "Requirement already satisfied: uvloop!=0.15.0,!=0.15.1,>=0.14.0 in /usr/local/lib/python3.11/dist-packages (from uvicorn[standard]>=0.18.3->chromadb) (0.21.0)\n",
      "Requirement already satisfied: watchfiles>=0.13 in /usr/local/lib/python3.11/dist-packages (from uvicorn[standard]>=0.18.3->chromadb) (1.0.4)\n",
      "Requirement already satisfied: websockets>=10.4 in /usr/local/lib/python3.11/dist-packages (from uvicorn[standard]>=0.18.3->chromadb) (14.2)\n",
      "Requirement already satisfied: cachetools<6.0,>=2.0.0 in /usr/local/lib/python3.11/dist-packages (from google-auth>=1.0.1->kubernetes>=28.1.0->chromadb) (5.5.1)\n",
      "Requirement already satisfied: pyasn1-modules>=0.2.1 in /usr/local/lib/python3.11/dist-packages (from google-auth>=1.0.1->kubernetes>=28.1.0->chromadb) (0.4.1)\n",
      "Requirement already satisfied: rsa<5,>=3.1.4 in /usr/local/lib/python3.11/dist-packages (from google-auth>=1.0.1->kubernetes>=28.1.0->chromadb) (4.9)\n",
      "Requirement already satisfied: filelock in /usr/local/lib/python3.11/dist-packages (from huggingface-hub<1.0,>=0.16.4->tokenizers>=0.13.2->chromadb) (3.17.0)\n",
      "Requirement already satisfied: fsspec>=2023.5.0 in /usr/local/lib/python3.11/dist-packages (from huggingface-hub<1.0,>=0.16.4->tokenizers>=0.13.2->chromadb) (2024.10.0)\n",
      "Requirement already satisfied: zipp>=3.20 in /usr/local/lib/python3.11/dist-packages (from importlib-metadata<=8.5.0,>=6.0->opentelemetry-api>=1.2.0->chromadb) (3.21.0)\n",
      "Requirement already satisfied: mdurl~=0.1 in /usr/local/lib/python3.11/dist-packages (from markdown-it-py>=2.2.0->rich>=10.11.0->chromadb) (0.1.2)\n",
      "Requirement already satisfied: charset-normalizer<4,>=2 in /usr/local/lib/python3.11/dist-packages (from requests->kubernetes>=28.1.0->chromadb) (3.4.1)\n",
      "Requirement already satisfied: sniffio>=1.1 in /usr/local/lib/python3.11/dist-packages (from anyio->httpx>=0.27.0->chromadb) (1.3.1)\n",
      "Requirement already satisfied: humanfriendly>=9.1 in /usr/local/lib/python3.11/dist-packages (from coloredlogs->onnxruntime>=1.14.1->chromadb) (10.0)\n",
      "Requirement already satisfied: mpmath<1.4,>=1.1.0 in /usr/local/lib/python3.11/dist-packages (from sympy->onnxruntime>=1.14.1->chromadb) (1.3.0)\n",
      "Requirement already satisfied: pyasn1<0.7.0,>=0.4.6 in /usr/local/lib/python3.11/dist-packages (from pyasn1-modules>=0.2.1->google-auth>=1.0.1->kubernetes>=28.1.0->chromadb) (0.6.1)\n"
     ]
    }
   ],
   "source": [
    "!pip install langchain langchain-core langchain-community\n",
    "!pip install openai\n",
    "!pip install pypdf\n",
    "!pip install tiktoken\n",
    "!pip install chromadb"
   ]
  },
  {
   "cell_type": "code",
   "execution_count": 2,
   "metadata": {
    "executionInfo": {
     "elapsed": 3450,
     "status": "ok",
     "timestamp": 1738732848507,
     "user": {
      "displayName": "이한슬/AI·소프트웨어학부(소프트웨어전공)",
      "userId": "06997898265828508065"
     },
     "user_tz": -540
    },
    "id": "b10pZ5PticS5"
   },
   "outputs": [],
   "source": [
    "from langchain.document_loaders import PyPDFLoader\n",
    "\n",
    "loader = PyPDFLoader('/content/[정책브리프 2021-04] 탄소중립 대응을 위한 정부 정책과 동향.pdf')\n",
    "pages = loader.load_and_split()"
   ]
  },
  {
   "cell_type": "code",
   "execution_count": 3,
   "metadata": {
    "executionInfo": {
     "elapsed": 592,
     "status": "ok",
     "timestamp": 1738732850361,
     "user": {
      "displayName": "이한슬/AI·소프트웨어학부(소프트웨어전공)",
      "userId": "06997898265828508065"
     },
     "user_tz": -540
    },
    "id": "lDlpA4JfjaBC"
   },
   "outputs": [],
   "source": [
    "import tiktoken\n",
    "\n",
    "def tiktoken_len(text):\n",
    "  tokens = tiktoken.encoding_for_model('gpt-4o-mini')\n",
    "  return len(tokens.encode(text))"
   ]
  },
  {
   "cell_type": "code",
   "execution_count": 4,
   "metadata": {
    "executionInfo": {
     "elapsed": 327,
     "status": "ok",
     "timestamp": 1738732945937,
     "user": {
      "displayName": "이한슬/AI·소프트웨어학부(소프트웨어전공)",
      "userId": "06997898265828508065"
     },
     "user_tz": -540
    },
    "id": "5cTP2BF5jewa"
   },
   "outputs": [],
   "source": [
    "from langchain.text_splitter import RecursiveCharacterTextSplitter\n",
    "\n",
    "text_splitter = RecursiveCharacterTextSplitter(\n",
    "    chunk_size = 500,\n",
    "    chunk_overlap = 50,\n",
    "    length_function = tiktoken_len,\n",
    ")"
   ]
  },
  {
   "cell_type": "code",
   "execution_count": 5,
   "metadata": {
    "colab": {
     "base_uri": "https://localhost:8080/"
    },
    "executionInfo": {
     "elapsed": 1524,
     "status": "ok",
     "timestamp": 1738733006002,
     "user": {
      "displayName": "이한슬/AI·소프트웨어학부(소프트웨어전공)",
      "userId": "06997898265828508065"
     },
     "user_tz": -540
    },
    "id": "EusdAbZwj0dF",
    "outputId": "356d83df-a6b8-4e07-f982-0e4262ca5970"
   },
   "outputs": [
    {
     "data": {
      "text/plain": [
       "Document(metadata={'source': '/content/[정책브리프 2021-04] 탄소중립 대응을 위한 정부 정책과 동향.pdf', 'page': 0, 'page_label': '1'}, page_content='2021.05이노비즈 정책브리프I n n o b i z  P o l i c y  B r i e f\\n탄소중립 대응을 위한정부 정책과 동향\\n탄소중립 대응을 위한 정부 정책과 동향–2021-04호–발행처이노비즈정책연구원–발행인임병훈–편집인김세종–http://www.innobiz.or.kr')"
      ]
     },
     "execution_count": 5,
     "metadata": {},
     "output_type": "execute_result"
    }
   ],
   "source": [
    "docs = text_splitter.split_documents(pages)\n",
    "docs[0]"
   ]
  },
  {
   "cell_type": "code",
   "execution_count": null,
   "metadata": {
    "executionInfo": {
     "elapsed": 528,
     "status": "ok",
     "timestamp": 1738734205558,
     "user": {
      "displayName": "이한슬/AI·소프트웨어학부(소프트웨어전공)",
      "userId": "06997898265828508065"
     },
     "user_tz": -540
    },
    "id": "QIw_wcAkkBcV"
   },
   "outputs": [],
   "source": [
    "import os\n",
    "\n",
    "os.environ['OPENAI_API_KEY'] = ''\n",
    "os.environ['OPENAI_API_VERSION'] = '2023-05-15'\n",
    "os.environ['OPENAI_API_TYPE'] = 'azure'\n",
    "os.environ['AZURE_OPENAI_ENDPOINT'] = 'https://labuser24-aiservice-002.openai.azure.com'"
   ]
  },
  {
   "cell_type": "code",
   "execution_count": 7,
   "metadata": {
    "colab": {
     "base_uri": "https://localhost:8080/"
    },
    "executionInfo": {
     "elapsed": 1536,
     "status": "ok",
     "timestamp": 1738734207091,
     "user": {
      "displayName": "이한슬/AI·소프트웨어학부(소프트웨어전공)",
      "userId": "06997898265828508065"
     },
     "user_tz": -540
    },
    "id": "ulZz8qfCogRE",
    "outputId": "c8a85f05-3934-4ea8-b293-5e6487338b3b"
   },
   "outputs": [
    {
     "name": "stderr",
     "output_type": "stream",
     "text": [
      "<ipython-input-7-56a9d52e716c>:3: LangChainDeprecationWarning: The class `AzureOpenAIEmbeddings` was deprecated in LangChain 0.0.9 and will be removed in 1.0. An updated version of the class exists in the :class:`~langchain-openai package and should be used instead. To use it run `pip install -U :class:`~langchain-openai` and import as `from :class:`~langchain_openai import AzureOpenAIEmbeddings``.\n",
      "  embedding_model = AzureOpenAIEmbeddings(\n"
     ]
    }
   ],
   "source": [
    "from langchain.embeddings import AzureOpenAIEmbeddings\n",
    "\n",
    "embedding_model = AzureOpenAIEmbeddings(\n",
    "    azure_deployment='dev-text-embedding-ada-002',\n",
    "    chunk_size = 500,\n",
    ")"
   ]
  },
  {
   "cell_type": "code",
   "execution_count": 8,
   "metadata": {
    "executionInfo": {
     "elapsed": 4616,
     "status": "ok",
     "timestamp": 1738734229577,
     "user": {
      "displayName": "이한슬/AI·소프트웨어학부(소프트웨어전공)",
      "userId": "06997898265828508065"
     },
     "user_tz": -540
    },
    "id": "XQD9Q8ilooss"
   },
   "outputs": [],
   "source": [
    "from langchain.vectorstores import Chroma\n",
    "\n",
    "db = Chroma.from_documents(docs, embedding_model)"
   ]
  },
  {
   "cell_type": "code",
   "execution_count": 10,
   "metadata": {
    "colab": {
     "base_uri": "https://localhost:8080/"
    },
    "executionInfo": {
     "elapsed": 833,
     "status": "ok",
     "timestamp": 1738734427221,
     "user": {
      "displayName": "이한슬/AI·소프트웨어학부(소프트웨어전공)",
      "userId": "06997898265828508065"
     },
     "user_tz": -540
    },
    "id": "AL2GQTdypOvh",
    "outputId": "88e74415-dae5-40a0-b4b7-ab0381fc6c69"
   },
   "outputs": [
    {
     "data": {
      "text/plain": [
       "[Document(metadata={'page': 5, 'page_label': '6', 'source': '/content/[정책브리프 2021-04] 탄소중립 대응을 위한 정부 정책과 동향.pdf'}, page_content='02탄소중립 대응을 위한 정부 정책1)탄소중립 2050 추진전략∙우리나라 정부는 지난 2020년 12월 7일 관계부처 합동으로 ‘2050 탄소중립 추진전략’을 발표함- 정부는 탄소중립이 어렵지만 가야할 길이라고 인식하는 한편 산업구조 저탄소화 및 신산업 육성 등 선도적 대응이 필요할 것이라고 말함 - 정부는 탄소중립을 실현하는 가운데 지속가능한 경제성장과 삶의 질 향상을 동시 달성하기 위해 △경제구조 저탄소화, △저탄소 산업생태계 조성, △탄소중립사회로의 공정전환의 3대 정책방향과 △탄소중립 제도기반 강화라는 3+1의 전략을 추진하고자 함 - 또한 3대 정책방향에 따른 10대 과제를 선정하여 신경제·사회구조 시스템 구축을 실현하겠다는 의지를 표명함 ① 경제구조의 저탄소화- (에너지 전환 가속화) 탄소중립을 위해 화석연료에 대한 높은 의존도를 줄이고, 재생 에너지로의 전환 가속화 추진- 산업 분야에서는 재생에너지, 수소, 에너지 IT 등 3대 에너지 신산업 육성에 집중- (고탄소 산업구조 혁신) 철강, 석유화학 등 탄소 다배출 업종에 대한 기술개발 지원, 고탄소 중소기업 대상 맞춤형 공정개선 지원 등을 통해 저탄소 산업구조로의 전환 추진- 금속･화학제품제조업 등 다배출 중소기업을 대상으로 공정진단을 통해 맞춤형 공정개선‧설비보급을 지원하는 등 산업 전과정(연‧원료→공정→제품→소비‧자원 순환)에서의 저탄소 전환을 촉진- (미래모빌리티로 전환) 친환경차 가격·충전·수요 혁신을 통해 수소·전기차 생산, 보급 확대, 전국 2천만 세대 전기차'),\n",
       " Document(metadata={'page': 5, 'page_label': '6', 'source': '/content/[정책브리프 2021-04] 탄소중립 대응을 위한 정부 정책과 동향.pdf'}, page_content='(미래모빌리티로 전환) 친환경차 가격·충전·수요 혁신을 통해 수소·전기차 생산, 보급 확대, 전국 2천만 세대 전기차 충전기 보급, 도시·거점별 수소 충전소 구축- (도시·국토 저탄소화) 신규 건축물 제로에너지 건축 의무화, 국토 계획 수립 시 생태자원 활용한 탄소흡수 기능 강화  ② 신유망 저탄소산업 생태계 조성- (신유망 산업 육성) 차세대전지 관련 핵심기술 확보, 그린수소 적극활성화하여 2050년 수소에너지 전체의 80% 이상을 그린수소로 전환, CCUS* 기술 등 혁신기술 개발 *CCUS : 이산화탄소 포집·활용 및 저장(Carbon Capture, Utilization and Storage)을 의미하며, 대규모로 배출되는 이산화탄소를 포집하여 이용 또는 격리하는 기술을 의미함1) 본 장은 정부에서 관계부처 합동으로 발표한 ‘2050 탄소중립 추진전략’(2020.12.7.)의 주요 내용을 요약·재구성하여 작성함'),\n",
       " Document(metadata={'page': 10, 'page_label': '11', 'source': '/content/[정책브리프 2021-04] 탄소중립 대응을 위한 정부 정책과 동향.pdf'}, page_content='저탄소화 및 신산업 육성 등 선제적 대응만이 탄소중립이라는 새로운 글로벌 질서에서 기회를 창출할 수 있음- 한국판 뉴딜을 통해 디지털과 그린을 융합한 혁신적 사업들을 성공적으로 추진한다면 탄소중립을 가속화하고 이를 국가 경쟁력 제고의 기회로 활용할 수 있을 것으로 기대됨'),\n",
       " Document(metadata={'page': 12, 'page_label': '13', 'source': '/content/[정책브리프 2021-04] 탄소중립 대응을 위한 정부 정책과 동향.pdf'}, page_content='010\\n이노비즈협회\\n부록: 주요 정부 정책과제 추진 일정기본방향10대 중점과제정 책 일 정주관부처링 크\\n경제구조의 저탄소화\\n에너지전환∙「에너지 탄소중립 혁신전략」 마련‘21.4분기산업부고탄소 산업∙「탄소중립 산업 대전환 추진전략(제조업 르네상스 2.0)」 마련‘21.4분기산업부∙「전통 중소기업 저탄소경영 지원방안」 마련‘21.4분기중기부미래 모빌리티∙「수송부문 미래차 전환전략」 마련‘21.4분기산업부 등\\n도시·국토∙「건물부문 2050 탄소중립 로드맵」 수립‘21.4분기국토부∙「자연·생태기반 온실가스 감축·적응전략」 마련 ‘21.4분기환경부 등∙「2050 탄소중립을 위한 농식품분야 기후변화 대응 기본계획」 수립‘21.1분기농식품부농업·농촌 탄소 중립 및 기후변화 적응∙「해양수산분야 2050 탄소중립 로드맵」 수립‘21.4분기해수부∙「2050 탄소중립 산림부문 전략」 마련‘21.3분기산림청제6차 산림기본계획신유망 저탄소 산업생태계 조성\\n신유망산업∙「수소경제이행 기본계획(수소경제로드맵 2.0)」 수립 ‘21.2분기산업부혁신생태계∙「그린 분야 혁신 벤처·창업 생태계 조성방안」 마련 ‘21.2분기중기부 등∙「녹색 유망기술 상용화 로드맵」 수립‘21.3분기환경부순환경제∙「K-순환경제 혁신 로드맵」 수립‘21.4분기환경부')]"
      ]
     },
     "execution_count": 10,
     "metadata": {},
     "output_type": "execute_result"
    }
   ],
   "source": [
    "query = '장기저탄소발전전략'\n",
    "db.similarity_search(query)"
   ]
  },
  {
   "cell_type": "code",
   "execution_count": 14,
   "metadata": {
    "executionInfo": {
     "elapsed": 1107,
     "status": "ok",
     "timestamp": 1738734797942,
     "user": {
      "displayName": "이한슬/AI·소프트웨어학부(소프트웨어전공)",
      "userId": "06997898265828508065"
     },
     "user_tz": -540
    },
    "id": "jQ09O50ApePt"
   },
   "outputs": [],
   "source": [
    "results = db.similarity_search_with_relevance_scores(query, k=3)"
   ]
  },
  {
   "cell_type": "code",
   "execution_count": 15,
   "metadata": {
    "colab": {
     "base_uri": "https://localhost:8080/",
     "height": 316
    },
    "executionInfo": {
     "elapsed": 6,
     "status": "ok",
     "timestamp": 1738734797942,
     "user": {
      "displayName": "이한슬/AI·소프트웨어학부(소프트웨어전공)",
      "userId": "06997898265828508065"
     },
     "user_tz": -540
    },
    "id": "oP-HQ6u5qpAG",
    "outputId": "10321583-b363-4e27-8740-d5e83db75aad"
   },
   "outputs": [
    {
     "data": {
      "application/vnd.google.colaboratory.intrinsic+json": {
       "type": "string"
      },
      "text/plain": [
       "'02탄소중립 대응을 위한 정부 정책1)탄소중립 2050 추진전략∙우리나라 정부는 지난 2020년 12월 7일 관계부처 합동으로 ‘2050 탄소중립 추진전략’을 발표함- 정부는 탄소중립이 어렵지만 가야할 길이라고 인식하는 한편 산업구조 저탄소화 및 신산업 육성 등 선도적 대응이 필요할 것이라고 말함 - 정부는 탄소중립을 실현하는 가운데 지속가능한 경제성장과 삶의 질 향상을 동시 달성하기 위해 △경제구조 저탄소화, △저탄소 산업생태계 조성, △탄소중립사회로의 공정전환의 3대 정책방향과 △탄소중립 제도기반 강화라는 3+1의 전략을 추진하고자 함 - 또한 3대 정책방향에 따른 10대 과제를 선정하여 신경제·사회구조 시스템 구축을 실현하겠다는 의지를 표명함 ① 경제구조의 저탄소화- (에너지 전환 가속화) 탄소중립을 위해 화석연료에 대한 높은 의존도를 줄이고, 재생 에너지로의 전환 가속화 추진- 산업 분야에서는 재생에너지, 수소, 에너지 IT 등 3대 에너지 신산업 육성에 집중- (고탄소 산업구조 혁신) 철강, 석유화학 등 탄소 다배출 업종에 대한 기술개발 지원, 고탄소 중소기업 대상 맞춤형 공정개선 지원 등을 통해 저탄소 산업구조로의 전환 추진- 금속･화학제품제조업 등 다배출 중소기업을 대상으로 공정진단을 통해 맞춤형 공정개선‧설비보급을 지원하는 등 산업 전과정(연‧원료→공정→제품→소비‧자원 순환)에서의 저탄소 전환을 촉진- (미래모빌리티로 전환) 친환경차 가격·충전·수요 혁신을 통해 수소·전기차 생산, 보급 확대, 전국 2천만 세대 전기차'"
      ]
     },
     "execution_count": 15,
     "metadata": {},
     "output_type": "execute_result"
    }
   ],
   "source": [
    "results[0][0].page_content"
   ]
  },
  {
   "cell_type": "code",
   "execution_count": 19,
   "metadata": {
    "executionInfo": {
     "elapsed": 2513,
     "status": "ok",
     "timestamp": 1738735386444,
     "user": {
      "displayName": "이한슬/AI·소프트웨어학부(소프트웨어전공)",
      "userId": "06997898265828508065"
     },
     "user_tz": -540
    },
    "id": "_dxClAytq5-0"
   },
   "outputs": [],
   "source": [
    "db2 = Chroma.from_documents(docs, embedding_model, persist_directory='./db')"
   ]
  },
  {
   "cell_type": "code",
   "execution_count": 20,
   "metadata": {
    "executionInfo": {
     "elapsed": 3,
     "status": "ok",
     "timestamp": 1738735386445,
     "user": {
      "displayName": "이한슬/AI·소프트웨어학부(소프트웨어전공)",
      "userId": "06997898265828508065"
     },
     "user_tz": -540
    },
    "id": "THy5kNx7rypq"
   },
   "outputs": [],
   "source": [
    "db3 = Chroma(persist_directory='./db', embedding_function=embedding_model)"
   ]
  },
  {
   "cell_type": "code",
   "execution_count": 21,
   "metadata": {
    "colab": {
     "base_uri": "https://localhost:8080/"
    },
    "executionInfo": {
     "elapsed": 3,
     "status": "ok",
     "timestamp": 1738735386445,
     "user": {
      "displayName": "이한슬/AI·소프트웨어학부(소프트웨어전공)",
      "userId": "06997898265828508065"
     },
     "user_tz": -540
    },
    "id": "3_IYMNUor21b",
    "outputId": "d6a52b16-4799-4181-f3e1-d12f316534de"
   },
   "outputs": [
    {
     "data": {
      "text/plain": [
       "[Document(metadata={'page': 8, 'page_label': '9', 'source': '/content/[정책브리프 2021-04] 탄소중립 대응을 위한 정부 정책과 동향.pdf'}, page_content='06\\n이노비즈협회'),\n",
       " Document(metadata={'page': 10, 'page_label': '11', 'source': '/content/[정책브리프 2021-04] 탄소중립 대응을 위한 정부 정책과 동향.pdf'}, page_content='08\\n이노비즈협회'),\n",
       " Document(metadata={'page': 7, 'page_label': '8', 'source': '/content/[정책브리프 2021-04] 탄소중립 대응을 위한 정부 정책과 동향.pdf'}, page_content='이노비즈 정책브리프장기저탄소발전전략(LEDS)∙우리나라는 녹색성장위원회 심의와 국무회의 의결을 거쳐 지난해 말 LEDS를 UN에 제출하였으며 부문별 전략은 다음과 같음- (에너지공급) 화석연료 발전 중심의 전력공급 체계를 재생에너지와 그린수소 중심으로 전환하고 이산화탄소포집 기술 등을 적극적으로 활용하여 전력부문의 탄소중립을 달성- (산업) 미래 신기술, 에너지효율 향상, 순환경제 실현으로 지속가능한 탄소중립 산업 생태계를 구축- (수송) 청정 에너지원(전기·수소)을 동력으로 하는 수송수단(자동차, 철도, 항공기, 선박)을 확대하고 디지털 기술을 활용한 자율주행차, 교통 수요관리를 통해 수송부문 탄소중립 기반을 조성- (건물) 단열과 기밀성능을 강화하고 에너지고효율 제품 사용을 확대하여 건물에서 사용되는 에너지를 최소화하고 태양광, 지열 등 건물 내 재생에너지 보급을 촉진하여 건물 에너지 자급자족을 실현- (농축수산) 농축수산의 스마트화 촉진과 청정에너지 사용 확대를 통해 친환경 농축수산업 체계를 구축- (탄소흡수원) 산림, 갯벌, 습지 등 자연·생태 기반 솔루션 강화로 탄소흡수 능력을 높여 우리나라 탄소중립 달성에 기여- (이행기반) 탄소중립을 위한 경제·사회의 녹색전환을 뒷받침하고자 정책(배출권거래제, 세제, 부담금 등), 사회, 기술 전반에 걸친 이행기반을 구축국가온실가스감축목표(NDC)∙세계 각국은 2015년 12월 ‘파리기후변화협정’ 채택 이전 국가온실가스감축목표를 UN에 제출했으며, 2021년'),\n",
       " Document(metadata={'page': 9, 'page_label': '10', 'source': '/content/[정책브리프 2021-04] 탄소중립 대응을 위한 정부 정책과 동향.pdf'}, page_content='07\\n이노비즈 정책브리프')]"
      ]
     },
     "execution_count": 21,
     "metadata": {},
     "output_type": "execute_result"
    }
   ],
   "source": [
    "db3.similarity_search('녹색성장')"
   ]
  }
 ],
 "metadata": {
  "colab": {
   "authorship_tag": "ABX9TyNZgJywxr344KBVb9i1TfSN",
   "provenance": []
  },
  "kernelspec": {
   "display_name": "Python 3",
   "name": "python3"
  },
  "language_info": {
   "name": "python"
  }
 },
 "nbformat": 4,
 "nbformat_minor": 0
}
